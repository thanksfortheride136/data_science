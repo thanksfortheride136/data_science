{
 "cells": [
  {
   "cell_type": "markdown",
   "id": "e9ea3c3c-332c-4b59-aa7b-3dac403ea195",
   "metadata": {},
   "source": [
    "# Data Science Intro with Pokemon [TEMPLATE]\n",
    "***"
   ]
  },
  {
   "cell_type": "markdown",
   "id": "573fa0b6-3308-4f4e-869a-cb251997619b",
   "metadata": {},
   "source": [
    "The following project uses Python, Seaborn, numpy and PANDAS. Dont forget to use shift + enter to run cells. "
   ]
  },
  {
   "cell_type": "markdown",
   "id": "6d7150c8-fda7-4bee-a4ab-c75f11b17c76",
   "metadata": {},
   "source": [
    "### Arrays \n",
    "***"
   ]
  },
  {
   "cell_type": "code",
   "execution_count": 6,
   "id": "05bc2c1f-a1dc-44a1-92d9-71b9a57ae68c",
   "metadata": {
    "jp-MarkdownHeadingCollapsed": true
   },
   "outputs": [],
   "source": [
    "food = [\"cheese\", \"bread\", \"ham\", \"mayo\", \"pickles\", \"lettuce\", \"tomato\"]"
   ]
  },
  {
   "cell_type": "code",
   "execution_count": 7,
   "id": "29f7dd3a-8f61-45fd-9ee5-6ae31f617166",
   "metadata": {},
   "outputs": [
    {
     "name": "stdout",
     "output_type": "stream",
     "text": [
      "['cheese', 'bread', 'ham', 'mayo', 'pickles', 'lettuce', 'tomato']\n"
     ]
    }
   ],
   "source": [
    "print(food)"
   ]
  },
  {
   "cell_type": "code",
   "execution_count": 8,
   "id": "313c51e4-9757-4eb8-ad44-00692e1f7653",
   "metadata": {},
   "outputs": [
    {
     "name": "stdout",
     "output_type": "stream",
     "text": [
      "['cheese', 'bread', 'ham']\n"
     ]
    }
   ],
   "source": [
    "print(food[0:3]) #slicing a list"
   ]
  },
  {
   "cell_type": "markdown",
   "id": "64e32cdd-73a8-412b-a614-7b145bbe4a02",
   "metadata": {},
   "source": [
    "### Import Libraries\n",
    "***"
   ]
  },
  {
   "cell_type": "code",
   "execution_count": 9,
   "id": "42887fa1-bc1c-412b-94ee-c6d1888b8bd5",
   "metadata": {},
   "outputs": [],
   "source": [
    "import pandas as pd\n",
    "import numpy as np\n",
    "import seaborn as sb"
   ]
  },
  {
   "cell_type": "markdown",
   "id": "b2982d43-e7d8-49d7-b0dd-b193522b231a",
   "metadata": {},
   "source": [
    "### Loading Data \n",
    "***"
   ]
  },
  {
   "cell_type": "code",
   "execution_count": 10,
   "id": "e96b4b1a-2d54-45c5-b9e9-ff9cec059058",
   "metadata": {},
   "outputs": [],
   "source": [
    "df = pd.read_csv('pokemon.csv')"
   ]
  },
  {
   "cell_type": "markdown",
   "id": "2487f170-1640-4f83-9799-c6676bb63ec9",
   "metadata": {},
   "source": [
    "### Displaying Full Data Frames\n",
    "***"
   ]
  },
  {
   "cell_type": "code",
   "execution_count": 99,
   "id": "f64d5e7b-6bf9-4fb0-84c7-64cbd12cd07d",
   "metadata": {},
   "outputs": [],
   "source": [
    "pd.set_option('display.max_rows', 10) #Limits Columns, set to value that you want"
   ]
  },
  {
   "cell_type": "code",
   "execution_count": 100,
   "id": "8173c30f-9cdc-46a9-958b-5b76e3e97722",
   "metadata": {},
   "outputs": [
    {
     "data": {
      "text/html": [
       "<div>\n",
       "<style scoped>\n",
       "    .dataframe tbody tr th:only-of-type {\n",
       "        vertical-align: middle;\n",
       "    }\n",
       "\n",
       "    .dataframe tbody tr th {\n",
       "        vertical-align: top;\n",
       "    }\n",
       "\n",
       "    .dataframe thead th {\n",
       "        text-align: right;\n",
       "    }\n",
       "</style>\n",
       "<table border=\"1\" class=\"dataframe\">\n",
       "  <thead>\n",
       "    <tr style=\"text-align: right;\">\n",
       "      <th></th>\n",
       "      <th>Per</th>\n",
       "      <th>Nat</th>\n",
       "      <th>Pokemon</th>\n",
       "      <th>HP</th>\n",
       "      <th>Atk</th>\n",
       "      <th>Def</th>\n",
       "      <th>SpA</th>\n",
       "      <th>SpD</th>\n",
       "      <th>Spe</th>\n",
       "      <th>Total</th>\n",
       "      <th>...</th>\n",
       "      <th>Catch</th>\n",
       "      <th>EXP</th>\n",
       "      <th>Evolve</th>\n",
       "      <th>Per.1</th>\n",
       "      <th>Nat.1</th>\n",
       "      <th>Joh</th>\n",
       "      <th>Hoe</th>\n",
       "      <th>Sin</th>\n",
       "      <th>Un</th>\n",
       "      <th>Pokemon.1</th>\n",
       "    </tr>\n",
       "  </thead>\n",
       "  <tbody>\n",
       "    <tr>\n",
       "      <th>0</th>\n",
       "      <td>1.0</td>\n",
       "      <td>1.0</td>\n",
       "      <td>Bulbasaur</td>\n",
       "      <td>45</td>\n",
       "      <td>49</td>\n",
       "      <td>49</td>\n",
       "      <td>65</td>\n",
       "      <td>65</td>\n",
       "      <td>45</td>\n",
       "      <td>318</td>\n",
       "      <td>...</td>\n",
       "      <td>45</td>\n",
       "      <td>1059860</td>\n",
       "      <td>NaN</td>\n",
       "      <td>1.0</td>\n",
       "      <td>1.0</td>\n",
       "      <td>226.0</td>\n",
       "      <td>NaN</td>\n",
       "      <td>NaN</td>\n",
       "      <td>NaN</td>\n",
       "      <td>Bulbasaur</td>\n",
       "    </tr>\n",
       "    <tr>\n",
       "      <th>1</th>\n",
       "      <td>2.0</td>\n",
       "      <td>2.0</td>\n",
       "      <td>Ivysaur</td>\n",
       "      <td>60</td>\n",
       "      <td>62</td>\n",
       "      <td>63</td>\n",
       "      <td>80</td>\n",
       "      <td>80</td>\n",
       "      <td>60</td>\n",
       "      <td>405</td>\n",
       "      <td>...</td>\n",
       "      <td>45</td>\n",
       "      <td>1059860</td>\n",
       "      <td>Lv. 16</td>\n",
       "      <td>2.0</td>\n",
       "      <td>2.0</td>\n",
       "      <td>227.0</td>\n",
       "      <td>NaN</td>\n",
       "      <td>NaN</td>\n",
       "      <td>NaN</td>\n",
       "      <td>Ivysaur</td>\n",
       "    </tr>\n",
       "    <tr>\n",
       "      <th>2</th>\n",
       "      <td>3.0</td>\n",
       "      <td>3.0</td>\n",
       "      <td>Venusaur</td>\n",
       "      <td>80</td>\n",
       "      <td>82</td>\n",
       "      <td>83</td>\n",
       "      <td>100</td>\n",
       "      <td>100</td>\n",
       "      <td>80</td>\n",
       "      <td>525</td>\n",
       "      <td>...</td>\n",
       "      <td>45</td>\n",
       "      <td>1059860</td>\n",
       "      <td>Lv. 32</td>\n",
       "      <td>3.0</td>\n",
       "      <td>3.0</td>\n",
       "      <td>228.0</td>\n",
       "      <td>NaN</td>\n",
       "      <td>NaN</td>\n",
       "      <td>NaN</td>\n",
       "      <td>Venusaur</td>\n",
       "    </tr>\n",
       "    <tr>\n",
       "      <th>3</th>\n",
       "      <td>4.0</td>\n",
       "      <td>4.0</td>\n",
       "      <td>Charmander</td>\n",
       "      <td>39</td>\n",
       "      <td>52</td>\n",
       "      <td>43</td>\n",
       "      <td>60</td>\n",
       "      <td>50</td>\n",
       "      <td>65</td>\n",
       "      <td>309</td>\n",
       "      <td>...</td>\n",
       "      <td>45</td>\n",
       "      <td>1059860</td>\n",
       "      <td>NaN</td>\n",
       "      <td>4.0</td>\n",
       "      <td>4.0</td>\n",
       "      <td>229.0</td>\n",
       "      <td>NaN</td>\n",
       "      <td>NaN</td>\n",
       "      <td>NaN</td>\n",
       "      <td>Charmander</td>\n",
       "    </tr>\n",
       "    <tr>\n",
       "      <th>4</th>\n",
       "      <td>5.0</td>\n",
       "      <td>5.0</td>\n",
       "      <td>Charmeleon</td>\n",
       "      <td>58</td>\n",
       "      <td>64</td>\n",
       "      <td>58</td>\n",
       "      <td>80</td>\n",
       "      <td>65</td>\n",
       "      <td>80</td>\n",
       "      <td>405</td>\n",
       "      <td>...</td>\n",
       "      <td>45</td>\n",
       "      <td>1059860</td>\n",
       "      <td>Lv. 16</td>\n",
       "      <td>5.0</td>\n",
       "      <td>5.0</td>\n",
       "      <td>230.0</td>\n",
       "      <td>NaN</td>\n",
       "      <td>NaN</td>\n",
       "      <td>NaN</td>\n",
       "      <td>Charmeleon</td>\n",
       "    </tr>\n",
       "  </tbody>\n",
       "</table>\n",
       "<p>5 rows × 35 columns</p>\n",
       "</div>"
      ],
      "text/plain": [
       "   Per  Nat     Pokemon  HP  Atk  Def  SpA  SpD  Spe  Total  ... Catch  \\\n",
       "0  1.0  1.0   Bulbasaur  45   49   49   65   65   45    318  ...    45   \n",
       "1  2.0  2.0     Ivysaur  60   62   63   80   80   60    405  ...    45   \n",
       "2  3.0  3.0    Venusaur  80   82   83  100  100   80    525  ...    45   \n",
       "3  4.0  4.0  Charmander  39   52   43   60   50   65    309  ...    45   \n",
       "4  5.0  5.0  Charmeleon  58   64   58   80   65   80    405  ...    45   \n",
       "\n",
       "       EXP  Evolve Per.1 Nat.1    Joh Hoe  Sin  Un   Pokemon.1  \n",
       "0  1059860     NaN   1.0   1.0  226.0 NaN  NaN NaN   Bulbasaur  \n",
       "1  1059860  Lv. 16   2.0   2.0  227.0 NaN  NaN NaN     Ivysaur  \n",
       "2  1059860  Lv. 32   3.0   3.0  228.0 NaN  NaN NaN    Venusaur  \n",
       "3  1059860     NaN   4.0   4.0  229.0 NaN  NaN NaN  Charmander  \n",
       "4  1059860  Lv. 16   5.0   5.0  230.0 NaN  NaN NaN  Charmeleon  \n",
       "\n",
       "[5 rows x 35 columns]"
      ]
     },
     "execution_count": 100,
     "metadata": {},
     "output_type": "execute_result"
    }
   ],
   "source": [
    "df.head() #displays full data set"
   ]
  },
  {
   "cell_type": "markdown",
   "id": "dea41e80-d11f-429b-b3fd-b3803030b8a6",
   "metadata": {},
   "source": [
    "### Accessing Columns\n",
    "***"
   ]
  },
  {
   "cell_type": "code",
   "execution_count": 101,
   "id": "f0d0101c-e7a5-41de-8b6e-13cb6adf569e",
   "metadata": {},
   "outputs": [
    {
     "data": {
      "text/plain": [
       "0         Bulbasaur\n",
       "1           Ivysaur\n",
       "2          Venusaur\n",
       "3        Charmander\n",
       "4        Charmeleon\n",
       "           ...     \n",
       "658          Kyurem\n",
       "659          Keldeo\n",
       "660    Meloetta (A)\n",
       "661    Meloetta (P)\n",
       "662        Genesect\n",
       "Name: Pokemon, Length: 663, dtype: object"
      ]
     },
     "execution_count": 101,
     "metadata": {},
     "output_type": "execute_result"
    }
   ],
   "source": [
    "df.Pokemon#[10]#[0:10] #Can call full columns from a dataframe, or can slice and display. Many options"
   ]
  },
  {
   "cell_type": "markdown",
   "id": "970b2b7f-a1f0-4463-a7b3-65e40f86509e",
   "metadata": {},
   "source": [
    "### Accessing Rows\n",
    "***"
   ]
  },
  {
   "cell_type": "code",
   "execution_count": 102,
   "id": "6e873ceb-445e-4afa-b645-efbea3ecbcd3",
   "metadata": {},
   "outputs": [],
   "source": [
    "specific_row = df.iloc[0] #iloc = index location, give us the first 0 indexed row"
   ]
  },
  {
   "cell_type": "code",
   "execution_count": 103,
   "id": "cad4ec96-2741-4125-a026-f79f411b4ca0",
   "metadata": {},
   "outputs": [
    {
     "name": "stdout",
     "output_type": "stream",
     "text": [
      "Per                1.0\n",
      "Nat                1.0\n",
      "Pokemon      Bulbasaur\n",
      "HP                  45\n",
      "Atk                 49\n",
      "               ...    \n",
      "Joh              226.0\n",
      "Hoe                NaN\n",
      "Sin                NaN\n",
      "Un                 NaN\n",
      "Pokemon.1    Bulbasaur\n",
      "Name: 0, Length: 35, dtype: object\n"
     ]
    }
   ],
   "source": [
    "print(specific_row)"
   ]
  },
  {
   "cell_type": "code",
   "execution_count": 104,
   "id": "367550d0-20c1-40ec-aee4-9cb578279bfc",
   "metadata": {},
   "outputs": [],
   "source": [
    "specific_column_and_row = df.Pokemon[0] #Looking in the pokemon column and in row 0"
   ]
  },
  {
   "cell_type": "code",
   "execution_count": 105,
   "id": "d4cf9645-f214-4023-a1f3-c9b3aa8aaa5c",
   "metadata": {},
   "outputs": [
    {
     "name": "stdout",
     "output_type": "stream",
     "text": [
      "Bulbasaur\n"
     ]
    }
   ],
   "source": [
    "print(specific_column_and_row)"
   ]
  },
  {
   "cell_type": "markdown",
   "id": "48485206-58c7-4f62-8a1f-7f4a15d1f00a",
   "metadata": {},
   "source": [
    "### Slicing Rows and Columns\n",
    "***"
   ]
  },
  {
   "cell_type": "code",
   "execution_count": 106,
   "id": "fbffa4bf-9744-4d31-91cb-978c0ae98b88",
   "metadata": {},
   "outputs": [],
   "source": [
    "rows_zero_to_ten = df.iloc[0:10] #slices rows 0 to 9 "
   ]
  },
  {
   "cell_type": "code",
   "execution_count": 107,
   "id": "5a212840-3ab4-4ffd-97c3-77b92f5998f8",
   "metadata": {},
   "outputs": [
    {
     "name": "stdout",
     "output_type": "stream",
     "text": [
      "    Per   Nat     Pokemon  HP  Atk  Def  SpA  SpD  Spe  Total  ... Catch  \\\n",
      "0   1.0   1.0   Bulbasaur  45   49   49   65   65   45    318  ...    45   \n",
      "1   2.0   2.0     Ivysaur  60   62   63   80   80   60    405  ...    45   \n",
      "2   3.0   3.0    Venusaur  80   82   83  100  100   80    525  ...    45   \n",
      "3   4.0   4.0  Charmander  39   52   43   60   50   65    309  ...    45   \n",
      "4   5.0   5.0  Charmeleon  58   64   58   80   65   80    405  ...    45   \n",
      "5   6.0   6.0   Charizard  78   84   78  109   85  100    534  ...    45   \n",
      "6   7.0   7.0    Squirtle  44   48   65   60   54   43    314  ...    45   \n",
      "7   8.0   8.0   Wartortle  59   63   80   65   80   58    405  ...    45   \n",
      "8   9.0   9.0   Blastoise  79   83  100   85  105   78    530  ...    45   \n",
      "9  10.0  10.0    Caterpie  45   30   35   20   20   45    195  ...   255   \n",
      "\n",
      "       EXP  Evolve Per.1 Nat.1    Joh Hoe  Sin  Un   Pokemon.1  \n",
      "0  1059860     NaN   1.0   1.0  226.0 NaN  NaN NaN   Bulbasaur  \n",
      "1  1059860  Lv. 16   2.0   2.0  227.0 NaN  NaN NaN     Ivysaur  \n",
      "2  1059860  Lv. 32   3.0   3.0  228.0 NaN  NaN NaN    Venusaur  \n",
      "3  1059860     NaN   4.0   4.0  229.0 NaN  NaN NaN  Charmander  \n",
      "4  1059860  Lv. 16   5.0   5.0  230.0 NaN  NaN NaN  Charmeleon  \n",
      "5  1059860  Lv. 36   6.0   6.0  231.0 NaN  NaN NaN   Charizard  \n",
      "6  1059860     NaN   7.0   7.0  232.0 NaN  NaN NaN    Squirtle  \n",
      "7  1059860  Lv. 16   8.0   8.0  233.0 NaN  NaN NaN   Wartortle  \n",
      "8  1059860  Lv. 36   9.0   9.0  234.0 NaN  NaN NaN   Blastoise  \n",
      "9  1000000     NaN  10.0  10.0   24.0 NaN  NaN NaN    Caterpie  \n",
      "\n",
      "[10 rows x 35 columns]\n"
     ]
    }
   ],
   "source": [
    "print(rows_zero_to_ten)"
   ]
  },
  {
   "cell_type": "code",
   "execution_count": 108,
   "id": "ec426a35-8f35-4d67-a755-919ec508c00d",
   "metadata": {},
   "outputs": [],
   "source": [
    "pokemon_ten_rows = df.Pokemon[0:11] #Looks in the Pokemon Column and slices 10 rows"
   ]
  },
  {
   "cell_type": "code",
   "execution_count": 109,
   "id": "4b58be4d-c271-4ac9-b932-092b64cfc295",
   "metadata": {},
   "outputs": [
    {
     "name": "stdout",
     "output_type": "stream",
     "text": [
      "0      Bulbasaur\n",
      "1        Ivysaur\n",
      "2       Venusaur\n",
      "3     Charmander\n",
      "4     Charmeleon\n",
      "         ...    \n",
      "6       Squirtle\n",
      "7      Wartortle\n",
      "8      Blastoise\n",
      "9       Caterpie\n",
      "10       Metapod\n",
      "Name: Pokemon, Length: 11, dtype: object\n"
     ]
    }
   ],
   "source": [
    "print(pokemon_ten_rows)"
   ]
  },
  {
   "cell_type": "markdown",
   "id": "d5246b35-8cb9-4065-8f9f-84867f299d02",
   "metadata": {},
   "source": [
    "### Useful PANDAS Methods\n",
    "***"
   ]
  },
  {
   "cell_type": "code",
   "execution_count": 127,
   "id": "994d011d-3c39-4896-830e-c4e480c8fab7",
   "metadata": {},
   "outputs": [
    {
     "data": {
      "text/plain": [
       "464     Abomasnow\n",
       "62           Abra\n",
       "358         Absol\n",
       "629      Accelgor\n",
       "141    Aerodactyl\n",
       "          ...    \n",
       "262     Zigzagoon\n",
       "583       Zoroark\n",
       "582         Zorua\n",
       "40          Zubat\n",
       "646      Zweilous\n",
       "Name: Pokemon, Length: 663, dtype: object"
      ]
     },
     "execution_count": 127,
     "metadata": {},
     "output_type": "execute_result"
    }
   ],
   "source": [
    "df.Pokemon.sort_values() #sorts values"
   ]
  },
  {
   "cell_type": "code",
   "execution_count": 111,
   "id": "4591ef3d-3e77-4481-9f30-f3be1d16eb8d",
   "metadata": {},
   "outputs": [
    {
     "data": {
      "text/plain": [
       "8     Blastoise\n",
       "0     Bulbasaur\n",
       "9      Caterpie\n",
       "5     Charizard\n",
       "3    Charmander\n",
       "4    Charmeleon\n",
       "1       Ivysaur\n",
       "6      Squirtle\n",
       "2      Venusaur\n",
       "7     Wartortle\n",
       "Name: Pokemon, dtype: object"
      ]
     },
     "execution_count": 111,
     "metadata": {},
     "output_type": "execute_result"
    }
   ],
   "source": [
    "df.Pokemon[0:10].sort_values() #sorts values of the FIRST 9. Note: it starts non-alphabetical, which is why were starting at B"
   ]
  },
  {
   "cell_type": "code",
   "execution_count": 112,
   "id": "7c5a0b63-5654-4f37-987c-51e246a1cc48",
   "metadata": {},
   "outputs": [
    {
     "data": {
      "text/plain": [
       "68.34087481146305"
      ]
     },
     "execution_count": 112,
     "metadata": {},
     "output_type": "execute_result"
    }
   ],
   "source": [
    "df.HP.mean() #gets mean "
   ]
  },
  {
   "cell_type": "code",
   "execution_count": 113,
   "id": "eb0ecdec-36d1-4e62-a562-0f9759c3bb66",
   "metadata": {},
   "outputs": [
    {
     "data": {
      "text/plain": [
       "count    663.000000\n",
       "mean      68.962293\n",
       "std       29.246841\n",
       "min       10.000000\n",
       "25%       45.000000\n",
       "50%       65.000000\n",
       "75%       90.000000\n",
       "max      180.000000\n",
       "Name: SpA, dtype: float64"
      ]
     },
     "execution_count": 113,
     "metadata": {},
     "output_type": "execute_result"
    }
   ],
   "source": [
    "df.SpA.describe()"
   ]
  },
  {
   "cell_type": "markdown",
   "id": "49fe6918-5539-434a-98eb-c87e8f152445",
   "metadata": {},
   "source": [
    "### Filtering Data\n",
    "***"
   ]
  },
  {
   "cell_type": "code",
   "execution_count": 114,
   "id": "bca69614-cd44-431e-b325-648f7529414b",
   "metadata": {},
   "outputs": [],
   "source": [
    "pikachu_df = df[df['Pokemon'] == 'Pikachu'] #Looks through the Pokemon Column for Pikachu and then lists out all its info"
   ]
  },
  {
   "cell_type": "code",
   "execution_count": 115,
   "id": "cf3399e2-937d-46ab-ad01-860ed3f5ac0a",
   "metadata": {},
   "outputs": [
    {
     "name": "stdout",
     "output_type": "stream",
     "text": [
      "     Per   Nat  Pokemon  HP  Atk  Def  SpA  SpD  Spe  Total  ... Catch  \\\n",
      "24  26.0  25.0  Pikachu  35   55   30   50   40   90    300  ...   190   \n",
      "\n",
      "        EXP      Evolve Per.1 Nat.1   Joh    Hoe    Sin  Un  Pokemon.1  \n",
      "24  1000000  Friendship  26.0  25.0  22.0  156.0  104.0 NaN    Pikachu  \n",
      "\n",
      "[1 rows x 35 columns]\n"
     ]
    }
   ],
   "source": [
    "print(pikachu_df)"
   ]
  },
  {
   "cell_type": "code",
   "execution_count": 116,
   "id": "83fb250a-fb43-4063-bc7a-b6fe45fdc065",
   "metadata": {},
   "outputs": [],
   "source": [
    "chu_pokemon = df[df['Pokemon'].str.contains(\"chu\")] #Looks through pokemon column for any chu pokemon names."
   ]
  },
  {
   "cell_type": "code",
   "execution_count": 117,
   "id": "c0eda679-547d-4fca-be08-225dbce2c21d",
   "metadata": {},
   "outputs": [
    {
     "name": "stdout",
     "output_type": "stream",
     "text": [
      "       Per    Nat   Pokemon  HP  Atk  Def  SpA  SpD  Spe  Total  ... Catch  \\\n",
      "24    26.0   25.0   Pikachu  35   55   30   50   40   90    300  ...   190   \n",
      "25    27.0   26.0    Raichu  60   90   55   90   80  100    475  ...    75   \n",
      "171   25.0  172.0     Pichu  20   40   15   35   35   60    205  ...   190   \n",
      "237  143.0  238.0  Smoochum  45   30   15   85   65   65    305  ...    45   \n",
      "\n",
      "         EXP        Evolve  Per.1  Nat.1    Joh    Hoe    Sin  Un  Pokemon.1  \n",
      "24   1000000    Friendship   26.0   25.0   22.0  156.0  104.0 NaN    Pikachu  \n",
      "25   1000000  Thunderstone   27.0   26.0   23.0  157.0  105.0 NaN     Raichu  \n",
      "171  1000000           NaN   25.0  172.0   21.0  155.0  103.0 NaN      Pichu  \n",
      "237  1000000           NaN  143.0  238.0  152.0    NaN    NaN NaN   Smoochum  \n",
      "\n",
      "[4 rows x 35 columns]\n"
     ]
    }
   ],
   "source": [
    "print(chu_pokemon)"
   ]
  },
  {
   "cell_type": "code",
   "execution_count": 118,
   "id": "8357381e-2982-4e1e-abbc-6a6816aeabb3",
   "metadata": {},
   "outputs": [],
   "source": [
    "special_attack_pokemon_70 = df[df[\"SpA\"] == 70]"
   ]
  },
  {
   "cell_type": "code",
   "execution_count": 119,
   "id": "6418d8b1-73c8-4003-bb02-3d7e3ede6761",
   "metadata": {},
   "outputs": [
    {
     "name": "stdout",
     "output_type": "stream",
     "text": [
      "       Per    Nat     Pokemon  HP  Atk  Def  SpA  SpD  Spe  Total  ... Catch  \\\n",
      "17    18.0   18.0     Pidgeot  83   80   75   70   70   91    469  ...    45   \n",
      "57    63.0   58.0   Growlithe  55   70   45   70   50   60    350  ...   190   \n",
      "61    67.0   62.0   Poliwrath  90   85   95   70   90   70    500  ...    45   \n",
      "68    75.0   69.0  Bellsprout  50   75   35   70   30   40    300  ...   255   \n",
      "86    95.0   87.0     Dewgong  90   70   80   70   95   70    475  ...    75   \n",
      "..     ...    ...         ...  ..  ...  ...  ...  ...  ...    ...  ...   ...   \n",
      "553  542.0  542.0    Leavanny  75  103   80   70   70   92    490  ...    45   \n",
      "559  548.0  548.0     Petilil  45   35   50   70   50   30    280  ...   190   \n",
      "612  600.0  600.0       Klang  60   80   95   70   85   50    440  ...    60   \n",
      "613  601.0  601.0   Klinklang  60  100  115   70   85   90    520  ...    30   \n",
      "626  614.0  614.0     Beartic  95  110   80   70   80   50    485  ...    60   \n",
      "\n",
      "         EXP       Evolve  Per.1  Nat.1    Joh Hoe  Sin     Un   Pokemon.1  \n",
      "17   1059860       Lv. 36   18.0   18.0   12.0 NaN  NaN    NaN     Pidgeot  \n",
      "57   1250000          NaN   63.0   58.0  127.0 NaN  NaN    NaN   Growlithe  \n",
      "61   1059860  Water Stone   67.0   62.0   74.0 NaN  NaN    NaN   Poliwrath  \n",
      "68   1059860          NaN   75.0   69.0   64.0 NaN  NaN    NaN  Bellsprout  \n",
      "86   1000000       Lv. 34   95.0   87.0  177.0 NaN  NaN    NaN     Dewgong  \n",
      "..       ...          ...    ...    ...    ...  ..  ...    ...         ...  \n",
      "553  1059860   Friendship  542.0  542.0    NaN NaN  NaN   48.0    Leavanny  \n",
      "559  1000000          NaN  548.0  548.0    NaN NaN  NaN   54.0     Petilil  \n",
      "612  1059860       Lv. 38  600.0  600.0    NaN NaN  NaN  106.0       Klang  \n",
      "613  1059860       Lv. 49  601.0  601.0    NaN NaN  NaN  107.0   Klinklang  \n",
      "626  1000000       Lv. 37  614.0  614.0    NaN NaN  NaN  120.0     Beartic  \n",
      "\n",
      "[28 rows x 35 columns]\n"
     ]
    }
   ],
   "source": [
    "print(special_attack_pokemon_70)"
   ]
  },
  {
   "cell_type": "markdown",
   "id": "4e2a1e46-b538-404b-8bfa-6a17d6317390",
   "metadata": {},
   "source": [
    "### Filtering with Logical Operators\n",
    "***"
   ]
  },
  {
   "cell_type": "code",
   "execution_count": 188,
   "id": "cb97f6ad-7ff9-4047-a210-995495684d1c",
   "metadata": {},
   "outputs": [],
   "source": [
    "filtered_water_high_speed = df[(df[\"Spe\"] > 100) & (df['Type I'] == \"Water\")] #Filters, note that logical operators are different in PANDAS &-and |-or ~-not"
   ]
  },
  {
   "cell_type": "code",
   "execution_count": 189,
   "id": "538ebee3-2b18-4354-8fee-96630570e279",
   "metadata": {},
   "outputs": [],
   "source": [
    "water_high_speed = filtered_water_high_speed.loc[:, [\"Pokemon\", \"HP\", \"Spe\"]] #Takes the filtered result and returns only the specified columns"
   ]
  },
  {
   "cell_type": "code",
   "execution_count": 190,
   "id": "64b441c7-b334-4ddf-ac05-39d80fb02495",
   "metadata": {},
   "outputs": [
    {
     "name": "stdout",
     "output_type": "stream",
     "text": [
      "      Pokemon  HP  Spe\n",
      "120   Starmie  60  115\n",
      "423  Floatzel  85  115\n",
      "527  Simipour  75  101\n",
      "659    Keldeo  91  108\n"
     ]
    }
   ],
   "source": [
    "print(water_high_speed) #Prints the result"
   ]
  },
  {
   "cell_type": "code",
   "execution_count": 191,
   "id": "d9f072e1-6207-4111-9b50-72855f3954b4",
   "metadata": {},
   "outputs": [],
   "source": [
    "water_high_speed_sorted_HP = water_high_speed.sort_values(by='HP', ascending=False)"
   ]
  },
  {
   "cell_type": "code",
   "execution_count": 192,
   "id": "ad78db09-02b9-420e-964d-ec832afb326c",
   "metadata": {},
   "outputs": [
    {
     "name": "stdout",
     "output_type": "stream",
     "text": [
      "      Pokemon  HP  Spe\n",
      "659    Keldeo  91  108\n",
      "423  Floatzel  85  115\n",
      "527  Simipour  75  101\n",
      "120   Starmie  60  115\n"
     ]
    }
   ],
   "source": [
    "print(water_high_speed_sorted_HP)"
   ]
  },
  {
   "cell_type": "code",
   "execution_count": 147,
   "id": "5d737551-0527-40c5-9f30-ede14f695c9c",
   "metadata": {},
   "outputs": [],
   "source": [
    "water_high_speed_sorted_Name = water_high_speed.sort_values(by='Pokemon', ascending=True)"
   ]
  },
  {
   "cell_type": "code",
   "execution_count": 148,
   "id": "cfcfb38a-2fdd-42fe-b6d4-3383e5399722",
   "metadata": {},
   "outputs": [
    {
     "name": "stdout",
     "output_type": "stream",
     "text": [
      "      Pokemon  HP  Spe\n",
      "423  Floatzel  85  115\n",
      "659    Keldeo  91  108\n",
      "527  Simipour  75  101\n",
      "120   Starmie  60  115\n"
     ]
    }
   ],
   "source": [
    "print(water_high_speed_sorted_Name)"
   ]
  },
  {
   "cell_type": "markdown",
   "id": "e4be9684-5de0-4aab-929e-80134c99f09e",
   "metadata": {},
   "source": [
    "#### Dropping Columns & Rows\n",
    "***"
   ]
  },
  {
   "cell_type": "code",
   "execution_count": 154,
   "id": "49f6bb75-8a74-4349-8999-f0bf4f2b1a35",
   "metadata": {},
   "outputs": [],
   "source": [
    "water_high_speed_sorted_Name_dropped_Spe = water_high_speed_sorted_Name.drop(columns=['Spe']) #drops .Spe add .drop(columns=['name here])"
   ]
  },
  {
   "cell_type": "code",
   "execution_count": 155,
   "id": "8f36ffe4-26ff-48e1-adc6-ac6164b5813c",
   "metadata": {},
   "outputs": [
    {
     "name": "stdout",
     "output_type": "stream",
     "text": [
      "      Pokemon  HP\n",
      "423  Floatzel  85\n",
      "659    Keldeo  91\n",
      "527  Simipour  75\n",
      "120   Starmie  60\n"
     ]
    }
   ],
   "source": [
    "print(water_high_speed_sorted_Name_dropped_Spe)"
   ]
  },
  {
   "cell_type": "markdown",
   "id": "eaf909cc-2b55-4503-9330-7a2f3f97415b",
   "metadata": {},
   "source": [
    "### Seaborn\n",
    "***"
   ]
  },
  {
   "cell_type": "markdown",
   "id": "3ba1a62c-bcf3-4364-9ce4-94e229f11e01",
   "metadata": {},
   "source": [
    "Builds on top of MatPlotLib to makes graphics"
   ]
  },
  {
   "cell_type": "markdown",
   "id": "299d885a-c817-4cd8-babb-16e3b5ff9c87",
   "metadata": {},
   "source": [
    "### Imports\n",
    "***"
   ]
  },
  {
   "cell_type": "markdown",
   "id": "069eebf0-1eb6-4d18-a65e-36f5d7743cfe",
   "metadata": {},
   "source": [
    "Sets the theme and imports data set to a variable"
   ]
  },
  {
   "cell_type": "code",
   "execution_count": 193,
   "id": "97c7a60f-57eb-4553-bf8c-4a7801a1487d",
   "metadata": {},
   "outputs": [],
   "source": [
    "sb.set_theme()"
   ]
  },
  {
   "cell_type": "code",
   "execution_count": 194,
   "id": "2d208180-904b-4d0d-92b7-fcebb842401c",
   "metadata": {},
   "outputs": [],
   "source": [
    "pokemon_data = pd.read_csv('pokemon.csv')"
   ]
  },
  {
   "cell_type": "markdown",
   "id": "d8d40e47-c1bc-4382-ac2e-0d86470e146b",
   "metadata": {},
   "source": [
    "#### Scatter Plot\n",
    "***"
   ]
  },
  {
   "cell_type": "markdown",
   "id": "0e7b5c38-ecc9-4e38-b955-1b4d45250253",
   "metadata": {},
   "source": [
    "Visualizes the relationship between 2 variables"
   ]
  },
  {
   "cell_type": "code",
   "execution_count": 185,
   "id": "c5416330-0f51-4f41-9262-53d9796c2937",
   "metadata": {},
   "outputs": [
    {
     "data": {
      "text/plain": [
       "<seaborn.axisgrid.FacetGrid at 0x7f7490378850>"
      ]
     },
     "execution_count": 185,
     "metadata": {},
     "output_type": "execute_result"
    },
    {
     "data": {
      "image/png": "[encoded data removed]",
      "text/plain": [
       "<Figure size 500x500 with 1 Axes>"
      ]
     },
     "metadata": {},
     "output_type": "display_data"
    }
   ],
   "source": [
    "sb.relplot(\n",
    "    data=pokemon_data, x=\"Atk\", y=\"HP\"\n",
    ")"
   ]
  },
  {
   "cell_type": "code",
   "execution_count": 200,
   "id": "38e4d8b5-7235-441c-b40e-eb9329f051c4",
   "metadata": {},
   "outputs": [],
   "source": [
    "#sb.lineplot(data=pokemon_data, x=\"HP\", y=\"Spe\") NEED TO MAKE A CORRECT RELATIONSHIP TO 2 VARIABLES TO DEMO CORRECTLY"
   ]
  },
  {
   "cell_type": "code",
   "execution_count": null,
   "id": "16bb6919-f167-4c97-9ea9-5d407c39f2d5",
   "metadata": {},
   "outputs": [],
   "source": []
  }
 ],
 "metadata": {
  "kernelspec": {
   "display_name": "Python 3 (ipykernel)",
   "language": "python",
   "name": "python3"
  },
  "language_info": {
   "codemirror_mode": {
    "name": "ipython",
    "version": 3
   },
   "file_extension": ".py",
   "mimetype": "text/x-python",
   "name": "python",
   "nbconvert_exporter": "python",
   "pygments_lexer": "ipython3",
   "version": "3.10.13"
  }
 },
 "nbformat": 4,
 "nbformat_minor": 5
}
